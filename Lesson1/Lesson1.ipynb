{
 "cells": [
  {
   "cell_type": "code",
   "execution_count": 61,
   "id": "e779a5a2",
   "metadata": {},
   "outputs": [],
   "source": [
    "import numpy as np\n",
    "import matplotlib.pyplot as plt"
   ]
  },
  {
   "cell_type": "code",
   "execution_count": 69,
   "id": "457ee75a",
   "metadata": {},
   "outputs": [],
   "source": [
    "X = np.array([[ 1,  1],\n",
    "              [ 1,  1],\n",
    "              [ 1,  2],\n",
    "              [ 1,  5],\n",
    "              [ 1,  3],\n",
    "              [ 1,  0],\n",
    "              [ 1,  5],\n",
    "              [ 1, 10],\n",
    "              [ 1,  1],\n",
    "              [ 1,  2]])"
   ]
  },
  {
   "cell_type": "code",
   "execution_count": 70,
   "id": "41ee04f4",
   "metadata": {},
   "outputs": [
    {
     "data": {
      "text/plain": [
       "(10, 2)"
      ]
     },
     "execution_count": 70,
     "metadata": {},
     "output_type": "execute_result"
    }
   ],
   "source": [
    "X.shape"
   ]
  },
  {
   "cell_type": "code",
   "execution_count": 64,
   "id": "0b17ae63",
   "metadata": {},
   "outputs": [],
   "source": [
    "y = [45, 55, 50, 59, 65, 35, 75, 80, 50, 60]"
   ]
  },
  {
   "cell_type": "code",
   "execution_count": 65,
   "id": "2bd33961",
   "metadata": {},
   "outputs": [],
   "source": [
    "def calc_mae(y, y_pred):\n",
    "    err = np.mean(np.abs(y - y_pred))\n",
    "    return err\n",
    "\n",
    "def calc_mse(y, y_pred):\n",
    "    err = np.mean((y - y_pred)**2)\n",
    "    return err"
   ]
  },
  {
   "cell_type": "markdown",
   "id": "0bc3ee8f",
   "metadata": {},
   "source": [
    "1.Подберите скорость обучения (eta) и количество итераций"
   ]
  },
  {
   "cell_type": "code",
   "execution_count": 82,
   "id": "e5c6c65f",
   "metadata": {},
   "outputs": [
    {
     "name": "stdout",
     "output_type": "stream",
     "text": [
      "Number of objects = 10        \n",
      "Learning rate = 0.1        \n",
      "Initial weights = [1.  0.5] \n",
      "\n",
      "Iteration #0: W_new = [11.98 38.9 ], MSE = 3150.55\n",
      "Iteration #10: W_new = [12885.31010706 70903.20160417], MSE = 18993747764.3\n",
      "Iteration #20: W_new = [ 7875281.81019441 43429358.45003828], MSE = 9469222482933380.0\n",
      "Iteration #30: W_new = [1.08309085e+09 5.97288613e+09], MSE = 2.4147257460545562e+20\n",
      "Iteration #40: W_new = [3.05671554e+10 1.68567711e+11], MSE = 2.640038532215345e+23\n",
      "Iteration #50: W_new = [1.58215155e+11 8.72504036e+11], MSE = 9.929235139856895e+24\n",
      "Iteration #60: W_new = [1.30102172e+11 7.17470274e+11], MSE = 9.70018569867648e+24\n",
      "Iteration #70: W_new = [1.40693955e+10 7.75880438e+10], MSE = 1.7020446317057256e+23\n",
      "Iteration #80: W_new = [1.54476183e+08 8.51884601e+08], MSE = 3.2420809663046013e+19\n",
      "Iteration #90: W_new = [118545.53142304 653492.31265872], MSE = 32485071185751.73\n",
      "Iteration #100: W_new = [49.08228766 23.45317354], MSE = 55512.29\n",
      "Iteration #110: W_new = [45.57602017  3.92819007], MSE = 43.38\n",
      "Iteration #120: W_new = [45.59810517  3.92417701], MSE = 43.38\n",
      "Iteration #130: W_new = [45.61323029  3.9214343 ], MSE = 43.38\n",
      "Iteration #140: W_new = [45.62386252  3.91950631], MSE = 43.38\n",
      "Iteration #150: W_new = [45.63151571  3.91811852], MSE = 43.38\n",
      "Iteration #160: W_new = [45.63714418  3.91709789], MSE = 43.38\n",
      "Iteration #170: W_new = [45.64136506  3.9163325 ], MSE = 43.38\n",
      "Iteration #180: W_new = [45.6445868   3.91574828], MSE = 43.38\n",
      "Iteration #190: W_new = [45.64708569  3.91529515], MSE = 43.38\n"
     ]
    }
   ],
   "source": [
    "n = X.shape[0]\n",
    "eta = 0.1\n",
    "n_iter = 200\n",
    "\n",
    "W = np.array([1, 0.5])\n",
    "print(f'Number of objects = {n} \\\n",
    "       \\nLearning rate = {eta} \\\n",
    "       \\nInitial weights = {W} \\n')\n",
    "\n",
    "for i in range(n_iter):\n",
    "    y_pred = np.dot(X, W)\n",
    "    err = calc_mse(y, y_pred)\n",
    "    for k in range(W.shape[0]):\n",
    "        W[k] -= eta * (1/n * 2 * X[:, k] @ (y_pred - y))\n",
    "    if i % 10 == 0:\n",
    "        eta /= 1.1\n",
    "        print(f'Iteration #{i}: W_new = {W}, MSE = {round(err, 2)}')"
   ]
  },
  {
   "cell_type": "markdown",
   "id": "4cae8c57",
   "metadata": {},
   "source": [
    "$Ответ:$"
   ]
  },
  {
   "cell_type": "markdown",
   "id": "079c13c8",
   "metadata": {},
   "source": [
    "Минимальная ошибка $MSE = 43.38$ достигается при скорости обучения $eta = 0.1$ и количестве итераций равное 120 (значение MSE после данного количества итераций неизменно)."
   ]
  },
  {
   "cell_type": "code",
   "execution_count": null,
   "id": "ac1f201f",
   "metadata": {},
   "outputs": [],
   "source": []
  }
 ],
 "metadata": {
  "kernelspec": {
   "display_name": "Python 3",
   "language": "python",
   "name": "python3"
  },
  "language_info": {
   "codemirror_mode": {
    "name": "ipython",
    "version": 3
   },
   "file_extension": ".py",
   "mimetype": "text/x-python",
   "name": "python",
   "nbconvert_exporter": "python",
   "pygments_lexer": "ipython3",
   "version": "3.8.8"
  }
 },
 "nbformat": 4,
 "nbformat_minor": 5
}
