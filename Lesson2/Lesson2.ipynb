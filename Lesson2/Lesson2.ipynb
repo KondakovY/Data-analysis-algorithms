{
 "cells": [
  {
   "cell_type": "markdown",
   "id": "bb4e8c27",
   "metadata": {},
   "source": [
    "Практическая часть"
   ]
  },
  {
   "cell_type": "code",
   "execution_count": 24,
   "id": "fe476bd1",
   "metadata": {},
   "outputs": [],
   "source": [
    "import numpy as np\n",
    "import matplotlib.pyplot as plt\n",
    "from sklearn.linear_model import Ridge"
   ]
  },
  {
   "cell_type": "markdown",
   "id": "a2a144de",
   "metadata": {},
   "source": [
    "Задача: предсказание баллов ЕГЭ ученика"
   ]
  },
  {
   "cell_type": "code",
   "execution_count": 2,
   "id": "460ed231",
   "metadata": {},
   "outputs": [],
   "source": [
    "X = np.array([[   1,    1,  500,    1],\n",
    "              [   1,    1,  700,    1],\n",
    "              [   1,    2,  750,    2],\n",
    "              [   1,    5,  600,    1],\n",
    "              [   1,    3, 1450,    2],\n",
    "              [   1,    0,  800,    1],\n",
    "              [   1,    5, 1500,    3],\n",
    "              [   1,   10, 2000,    3],\n",
    "              [   1,    1,  450,    1],\n",
    "              [   1,    2, 1000,    2]])"
   ]
  },
  {
   "cell_type": "code",
   "execution_count": 3,
   "id": "a0b0f1fa",
   "metadata": {},
   "outputs": [],
   "source": [
    "y = [45, 55, 50, 55, 60, 35, 75, 80, 50, 60]"
   ]
  },
  {
   "cell_type": "markdown",
   "id": "77cda486",
   "metadata": {},
   "source": [
    "Нормализация [0, 1]"
   ]
  },
  {
   "cell_type": "code",
   "execution_count": 4,
   "id": "1df018b9",
   "metadata": {},
   "outputs": [
    {
     "data": {
      "text/plain": [
       "(0, 10)"
      ]
     },
     "execution_count": 4,
     "metadata": {},
     "output_type": "execute_result"
    }
   ],
   "source": [
    "X[:, 1].min(), X[:, 1].max()"
   ]
  },
  {
   "cell_type": "code",
   "execution_count": 5,
   "id": "37bb4d6d",
   "metadata": {},
   "outputs": [
    {
     "data": {
      "text/plain": [
       "(450, 2000)"
      ]
     },
     "execution_count": 5,
     "metadata": {},
     "output_type": "execute_result"
    }
   ],
   "source": [
    "X[:, 2].min(), X[:, 2].max()"
   ]
  },
  {
   "cell_type": "code",
   "execution_count": 6,
   "id": "e225ca65",
   "metadata": {},
   "outputs": [],
   "source": [
    "def min_max_scale(X):\n",
    "    return (X - X.min()) / (X.max() - X.min())"
   ]
  },
  {
   "cell_type": "code",
   "execution_count": 7,
   "id": "938c5fb9",
   "metadata": {},
   "outputs": [
    {
     "data": {
      "text/plain": [
       "array([[1.00e+00, 1.00e+00, 5.00e+02, 1.00e+00],\n",
       "       [1.00e+00, 1.00e+00, 7.00e+02, 1.00e+00],\n",
       "       [1.00e+00, 2.00e+00, 7.50e+02, 2.00e+00],\n",
       "       [1.00e+00, 5.00e+00, 6.00e+02, 1.00e+00],\n",
       "       [1.00e+00, 3.00e+00, 1.45e+03, 2.00e+00],\n",
       "       [1.00e+00, 0.00e+00, 8.00e+02, 1.00e+00],\n",
       "       [1.00e+00, 5.00e+00, 1.50e+03, 3.00e+00],\n",
       "       [1.00e+00, 1.00e+01, 2.00e+03, 3.00e+00],\n",
       "       [1.00e+00, 1.00e+00, 4.50e+02, 1.00e+00],\n",
       "       [1.00e+00, 2.00e+00, 1.00e+03, 2.00e+00]])"
      ]
     },
     "execution_count": 7,
     "metadata": {},
     "output_type": "execute_result"
    }
   ],
   "source": [
    "X_norm = X.copy()\n",
    "X_norm = X_norm.astype(np.float64)\n",
    "X_norm"
   ]
  },
  {
   "cell_type": "code",
   "execution_count": 8,
   "id": "ec84f728",
   "metadata": {},
   "outputs": [
    {
     "data": {
      "text/plain": [
       "array([[1.        , 0.1       , 0.03225806, 0.        ],\n",
       "       [1.        , 0.1       , 0.16129032, 0.        ],\n",
       "       [1.        , 0.2       , 0.19354839, 0.5       ],\n",
       "       [1.        , 0.5       , 0.09677419, 0.        ],\n",
       "       [1.        , 0.3       , 0.64516129, 0.5       ],\n",
       "       [1.        , 0.        , 0.22580645, 0.        ],\n",
       "       [1.        , 0.5       , 0.67741935, 1.        ],\n",
       "       [1.        , 1.        , 1.        , 1.        ],\n",
       "       [1.        , 0.1       , 0.        , 0.        ],\n",
       "       [1.        , 0.2       , 0.35483871, 0.5       ]])"
      ]
     },
     "execution_count": 8,
     "metadata": {},
     "output_type": "execute_result"
    }
   ],
   "source": [
    "X_norm[:, 1] = min_max_scale(X_norm[:, 1])\n",
    "X_norm[:, 2] = min_max_scale(X_norm[:, 2])\n",
    "X_norm[:, 3] = min_max_scale(X_norm[:, 3])\n",
    "X_norm"
   ]
  },
  {
   "cell_type": "markdown",
   "id": "6d5dc3dc",
   "metadata": {},
   "source": [
    "Стандартизация"
   ]
  },
  {
   "cell_type": "code",
   "execution_count": 9,
   "id": "0b1c9e1b",
   "metadata": {},
   "outputs": [
    {
     "name": "stdout",
     "output_type": "stream",
     "text": [
      "3.0\n"
     ]
    },
    {
     "data": {
      "image/png": "[encoded data removed]",
      "text/plain": [
       "<Figure size 432x288 with 1 Axes>"
      ]
     },
     "metadata": {
      "needs_background": "light"
     },
     "output_type": "display_data"
    }
   ],
   "source": [
    "print(np.mean(X[:, 1]))\n",
    "plt.hist(X[:, 1])\n",
    "plt.show()"
   ]
  },
  {
   "cell_type": "code",
   "execution_count": 10,
   "id": "3f3485ca",
   "metadata": {},
   "outputs": [
    {
     "name": "stdout",
     "output_type": "stream",
     "text": [
      "975.0\n"
     ]
    },
    {
     "data": {
      "image/png": "[encoded data removed]",
      "text/plain": [
       "<Figure size 432x288 with 1 Axes>"
      ]
     },
     "metadata": {
      "needs_background": "light"
     },
     "output_type": "display_data"
    }
   ],
   "source": [
    "print(np.mean(X[:, 2]))\n",
    "plt.hist(X[:, 2])\n",
    "plt.show()"
   ]
  },
  {
   "cell_type": "code",
   "execution_count": 11,
   "id": "c06d81bb",
   "metadata": {},
   "outputs": [],
   "source": [
    "def standard_scale(X):\n",
    "    mean = X.mean()\n",
    "    std = X.std()\n",
    "    return (X - mean) / std"
   ]
  },
  {
   "cell_type": "code",
   "execution_count": 12,
   "id": "7aa033e8",
   "metadata": {},
   "outputs": [
    {
     "data": {
      "text/plain": [
       "array([[ 1.        , -0.70710678, -0.97958969, -0.89625816],\n",
       "       [ 1.        , -0.70710678, -0.56713087, -0.89625816],\n",
       "       [ 1.        , -0.35355339, -0.46401617,  0.38411064],\n",
       "       [ 1.        ,  0.70710678, -0.77336028, -0.89625816],\n",
       "       [ 1.        ,  0.        ,  0.97958969,  0.38411064],\n",
       "       [ 1.        , -1.06066017, -0.36090146, -0.89625816],\n",
       "       [ 1.        ,  0.70710678,  1.08270439,  1.66447944],\n",
       "       [ 1.        ,  2.47487373,  2.11385144,  1.66447944],\n",
       "       [ 1.        , -0.70710678, -1.08270439, -0.89625816],\n",
       "       [ 1.        , -0.35355339,  0.05155735,  0.38411064]])"
      ]
     },
     "execution_count": 12,
     "metadata": {},
     "output_type": "execute_result"
    }
   ],
   "source": [
    "X_st = X.copy().astype(np.float64)\n",
    "X_st[:, 1] = standard_scale(X_st[:, 1])\n",
    "X_st[:, 2] = standard_scale(X_st[:, 2])\n",
    "X_st[:, 3] = standard_scale(X_st[:, 3])\n",
    "\n",
    "X_st"
   ]
  },
  {
   "cell_type": "code",
   "execution_count": 13,
   "id": "c7bad5f3",
   "metadata": {},
   "outputs": [
    {
     "name": "stdout",
     "output_type": "stream",
     "text": [
      "4.4408920985006264e-17\n",
      "1.0\n"
     ]
    },
    {
     "data": {
      "image/png": "[encoded data removed]",
      "text/plain": [
       "<Figure size 432x288 with 1 Axes>"
      ]
     },
     "metadata": {
      "needs_background": "light"
     },
     "output_type": "display_data"
    }
   ],
   "source": [
    "print(np.mean(X_st[:, 1]))\n",
    "print(np.std(X_st[:, 1]))\n",
    "\n",
    "plt.hist(X_st[:, 1])\n",
    "plt.show()"
   ]
  },
  {
   "cell_type": "code",
   "execution_count": 14,
   "id": "cab4aa7e",
   "metadata": {},
   "outputs": [
    {
     "name": "stdout",
     "output_type": "stream",
     "text": [
      "-4.163336342344337e-17\n",
      "0.9999999999999999\n"
     ]
    },
    {
     "data": {
      "image/png": "[encoded data removed]",
      "text/plain": [
       "<Figure size 432x288 with 1 Axes>"
      ]
     },
     "metadata": {
      "needs_background": "light"
     },
     "output_type": "display_data"
    }
   ],
   "source": [
    "print(np.mean(X_st[:, 2]))\n",
    "print(np.std(X_st[:, 2]))\n",
    "\n",
    "plt.hist(X_st[:, 2])\n",
    "plt.show()"
   ]
  },
  {
   "cell_type": "markdown",
   "id": "f852e501",
   "metadata": {},
   "source": [
    "SGD (Stochastic gradient descent)"
   ]
  },
  {
   "cell_type": "code",
   "execution_count": 15,
   "id": "0fc9499d",
   "metadata": {},
   "outputs": [],
   "source": [
    "def calc_mse(y, y_pred):\n",
    "    err = np.mean((y - y_pred)**2)\n",
    "    return err"
   ]
  },
  {
   "cell_type": "code",
   "execution_count": 16,
   "id": "1e9aa559",
   "metadata": {},
   "outputs": [
    {
     "data": {
      "text/plain": [
       "array([ 1.1291768 , -1.12403288,  2.21385428, -0.06715209])"
      ]
     },
     "execution_count": 16,
     "metadata": {},
     "output_type": "execute_result"
    }
   ],
   "source": [
    "W = np.random.randn(X.shape[1])\n",
    "W"
   ]
  },
  {
   "cell_type": "code",
   "execution_count": 17,
   "id": "78c55caf",
   "metadata": {},
   "outputs": [],
   "source": [
    "# классический  GD\n",
    "def gradient_descent(X, y, iterations, eta=1e-4):\n",
    "    W = np.random.randn(X.shape[1])\n",
    "    n = X.shape[0]\n",
    "    \n",
    "    for i in range(0, iterations):\n",
    "        y_pred = np.dot(X, W)\n",
    "        err = calc_mse(y, y_pred)\n",
    "        dQ = 2/n * X.T @ (y_pred - y) # градиент функции ошибки\n",
    "        W -= (eta * dQ)\n",
    "        if i % (iterations / 10) == 0:\n",
    "            print(f'Iter: {i}, weights: {W}, error {err}')\n",
    "    print(f'Final MSE: {calc_mse(y, np.dot(X, W))}')\n",
    "    return W"
   ]
  },
  {
   "cell_type": "code",
   "execution_count": 18,
   "id": "4c681e6a",
   "metadata": {},
   "outputs": [
    {
     "name": "stdout",
     "output_type": "stream",
     "text": [
      "Iter: 0, weights: [0.78179865 0.20376327 1.80720672 0.31004264], error 3358.7020230068388\n",
      "Iter: 500, weights: [56.49771422  5.83490058  1.46826045  5.15139967], error 25.477780828769745\n",
      "Iter: 1000, weights: [56.49999991  6.16437321  0.29101695  6.04151114], error 24.978344736184187\n",
      "Iter: 1500, weights: [56.5         6.25468719 -0.12383959  6.37975688], error 24.914169255898088\n",
      "Iter: 2000, weights: [56.5         6.28574808 -0.27270922  6.50241932], error 24.905856200574274\n",
      "Iter: 2500, weights: [56.5         6.29685415 -0.32627033  6.54661738], error 24.904779181988367\n",
      "Iter: 3000, weights: [56.5         6.3008479  -0.345548    6.56252849], error 24.904639645702265\n",
      "Iter: 3500, weights: [56.5         6.30228522 -0.35248678  6.56825569], error 24.904621567670265\n",
      "Iter: 4000, weights: [56.5         6.30280256 -0.35498433  6.57031715], error 24.9046192255179\n",
      "Iter: 4500, weights: [56.5         6.30298877 -0.35588331  6.57105915], error 24.90461892207352\n",
      "Final MSE: 24.904618882759898\n"
     ]
    },
    {
     "data": {
      "text/plain": [
       "array([56.5       ,  6.30305572, -0.35620651,  6.57132592])"
      ]
     },
     "execution_count": 18,
     "metadata": {},
     "output_type": "execute_result"
    }
   ],
   "source": [
    "gradient_descent(X_st, y, iterations=5000, eta=1e-2)"
   ]
  },
  {
   "cell_type": "code",
   "execution_count": 19,
   "id": "d40c1253",
   "metadata": {},
   "outputs": [],
   "source": [
    "# стохастический градиентный спуск\n",
    "def stohastic_gradient_descent(X, y, iterations, batch_size, eta=1e-4):\n",
    "    W = np.random.randn(X.shape[1])\n",
    "    n = X.shape[0]\n",
    "    \n",
    "    n_batch = n // batch_size    \n",
    "    if n % batch_size != 0:\n",
    "        n_batch += 1\n",
    "    print(f'amount of batches is {n_batch}')\n",
    "        \n",
    "    for i in range(0, iterations):\n",
    "        \n",
    "        for b in range(n_batch):\n",
    "            start = batch_size * b\n",
    "            end = batch_size * (b + 1)\n",
    "            \n",
    "#             print(b, start, end)\n",
    "            \n",
    "            X_tmp = X[start : end, ]\n",
    "            y_tmp = y[start : end]\n",
    "\n",
    "            \n",
    "            y_pred_tmp = np.dot(X_tmp, W)\n",
    "            dQ = 2/len(y_tmp) * X_tmp.T @ (y_pred_tmp - y_tmp) # градиент функции ошибки\n",
    "            W -= (eta * dQ)\n",
    "            \n",
    "            err = calc_mse(y, np.dot(X, W))\n",
    "        \n",
    "        if i % (iterations / 10) == 0:\n",
    "            print(f'Iter: {i}, weights: {W}, error {err}')\n",
    "    \n",
    "    print(f'Final MSE: {calc_mse(y, np.dot(X, W))}')\n",
    "    return W"
   ]
  },
  {
   "cell_type": "code",
   "execution_count": 20,
   "id": "23e78084",
   "metadata": {},
   "outputs": [
    {
     "name": "stdout",
     "output_type": "stream",
     "text": [
      "amount of batches is 3\n",
      "Iter: 0, weights: [ 3.90818208  1.15062754 -0.45336877 -0.61920812], error 2924.762663401708\n",
      "Iter: 500, weights: [57.06099989  6.06666484 -0.72300281  6.91674162], error 25.320877284590598\n",
      "Iter: 1000, weights: [57.05307445  6.1222516  -0.95884041  7.10935282], error 25.34780461598266\n",
      "Iter: 1500, weights: [57.05251185  6.12615181 -0.97552283  7.12300724], error 25.35046362992875\n",
      "Iter: 2000, weights: [57.05247203  6.12642785 -0.97670359  7.12397369], error 25.350655579347638\n",
      "Iter: 2500, weights: [57.05246922  6.12644739 -0.97678716  7.12404209], error 25.35066918407879\n",
      "Iter: 3000, weights: [57.05246902  6.12644877 -0.97679307  7.12404694], error 25.350670147100466\n",
      "Iter: 3500, weights: [57.052469    6.12644887 -0.97679349  7.12404728], error 25.350670215262543\n",
      "Iter: 4000, weights: [57.052469    6.12644888 -0.97679352  7.1240473 ], error 25.35067022008698\n",
      "Iter: 4500, weights: [57.052469    6.12644888 -0.97679352  7.1240473 ], error 25.350670220428466\n",
      "Final MSE: 25.350670220452578\n"
     ]
    },
    {
     "data": {
      "text/plain": [
       "array([57.052469  ,  6.12644888, -0.97679353,  7.1240473 ])"
      ]
     },
     "execution_count": 20,
     "metadata": {},
     "output_type": "execute_result"
    }
   ],
   "source": [
    "stohastic_gradient_descent(X_st, y, iterations=5000, batch_size=4, eta=1e-2)"
   ]
  },
  {
   "cell_type": "markdown",
   "id": "a063e25a",
   "metadata": {},
   "source": [
    "##### L1 регуляризация"
   ]
  },
  {
   "cell_type": "markdown",
   "id": "c3fe797c",
   "metadata": {},
   "source": [
    "$$Q(w, X) + \\lambda |w| \\rightarrow \\underset{w}{\\text{min}}.$$"
   ]
  },
  {
   "cell_type": "markdown",
   "id": "d8911034",
   "metadata": {},
   "source": [
    "##### L2 регуляризация"
   ]
  },
  {
   "cell_type": "markdown",
   "id": "4d3cdc90",
   "metadata": {},
   "source": [
    "$$Q(w, X) + \\lambda ||w||^{2} \\rightarrow \\underset{w}{\\text{min}}.$$\n",
    "\n",
    "<center>Производная</center>\n",
    "\n",
    "$$d\\lambda ||w||^{2} = 2\\lambda w $$"
   ]
  },
  {
   "cell_type": "code",
   "execution_count": 21,
   "id": "cb180e1c",
   "metadata": {},
   "outputs": [],
   "source": [
    "def gradient_descent_reg_l2(X, y, iterations, eta=1e-4, reg=1e-8):\n",
    "    W = np.random.randn(X.shape[1])\n",
    "    n = X.shape[0]\n",
    "    \n",
    "    for i in range(0, iterations):\n",
    "        y_pred = np.dot(X, W)\n",
    "        err = calc_mse(y, y_pred)\n",
    "        \n",
    "        dQ = 2/n * X.T @ (y_pred - y) # градиент функции ошибки\n",
    "        dReg = reg * W # градиент регуляризации\n",
    "        \n",
    "        W -= eta * (dQ + dReg)\n",
    "        \n",
    "        if i % (iterations / 10) == 0:\n",
    "            print(f'Iter: {i}, weights: {W}, error {err}')\n",
    "    \n",
    "    print(f'Final MSE: {calc_mse(y, np.dot(X, W))}')\n",
    "    return W"
   ]
  },
  {
   "cell_type": "code",
   "execution_count": 22,
   "id": "582c0659",
   "metadata": {},
   "outputs": [
    {
     "name": "stdout",
     "output_type": "stream",
     "text": [
      "Iter: 0, weights: [10.4147314   2.40666444  1.36668678  2.03518119], error 3507.450058520227\n",
      "Iter: 500, weights: [56.49717514  6.302321   -0.35425778  6.56979818], error 24.904627736162226\n",
      "Iter: 1000, weights: [56.49717514  6.30234588 -0.35437787  6.5698973 ], error 24.904627646691708\n",
      "Iter: 1500, weights: [56.49717514  6.30234588 -0.35437787  6.5698973 ], error 24.90462764668883\n",
      "Iter: 2000, weights: [56.49717514  6.30234588 -0.35437787  6.5698973 ], error 24.904627646688827\n",
      "Iter: 2500, weights: [56.49717514  6.30234588 -0.35437787  6.5698973 ], error 24.904627646688827\n",
      "Iter: 3000, weights: [56.49717514  6.30234588 -0.35437787  6.5698973 ], error 24.904627646688827\n",
      "Iter: 3500, weights: [56.49717514  6.30234588 -0.35437787  6.5698973 ], error 24.904627646688827\n",
      "Iter: 4000, weights: [56.49717514  6.30234588 -0.35437787  6.5698973 ], error 24.904627646688827\n",
      "Iter: 4500, weights: [56.49717514  6.30234588 -0.35437787  6.5698973 ], error 24.904627646688827\n",
      "Final MSE: 24.904627646688827\n"
     ]
    },
    {
     "data": {
      "text/plain": [
       "array([56.49717514,  6.30234588, -0.35437787,  6.5698973 ])"
      ]
     },
     "execution_count": 22,
     "metadata": {},
     "output_type": "execute_result"
    }
   ],
   "source": [
    "gradient_descent_reg_l2(X_st, y, iterations=5000, eta=1e-1, reg=1e-4)"
   ]
  },
  {
   "cell_type": "code",
   "execution_count": 23,
   "id": "0f513354",
   "metadata": {},
   "outputs": [
    {
     "name": "stdout",
     "output_type": "stream",
     "text": [
      "Iter: 0, weights: [11.37333934  1.05778183  2.79640889  1.99908311], error 3367.3921229457324\n",
      "Iter: 500, weights: [56.5         6.30306154 -0.35623461  6.57134911], error 24.90461888127189\n",
      "Iter: 1000, weights: [56.5         6.30309349 -0.35638884  6.57147642], error 24.90461887690839\n",
      "Iter: 1500, weights: [56.5         6.30309349 -0.35638885  6.57147643], error 24.904618876908387\n",
      "Iter: 2000, weights: [56.5         6.30309349 -0.35638885  6.57147643], error 24.904618876908398\n",
      "Iter: 2500, weights: [56.5         6.30309349 -0.35638885  6.57147643], error 24.904618876908373\n",
      "Iter: 3000, weights: [56.5         6.30309349 -0.35638885  6.57147643], error 24.90461887690839\n",
      "Iter: 3500, weights: [56.5         6.30309349 -0.35638885  6.57147643], error 24.904618876908398\n",
      "Iter: 4000, weights: [56.5         6.30309349 -0.35638885  6.57147643], error 24.904618876908373\n",
      "Iter: 4500, weights: [56.5         6.30309349 -0.35638885  6.57147643], error 24.90461887690839\n",
      "Final MSE: 24.904618876908398\n"
     ]
    },
    {
     "data": {
      "text/plain": [
       "array([56.5       ,  6.30309349, -0.35638885,  6.57147643])"
      ]
     },
     "execution_count": 23,
     "metadata": {},
     "output_type": "execute_result"
    }
   ],
   "source": [
    "gradient_descent(X_st, y, iterations=5000, eta=1e-1)"
   ]
  },
  {
   "cell_type": "markdown",
   "id": "e64306b8",
   "metadata": {},
   "source": [
    "## Домашнее задание"
   ]
  },
  {
   "cell_type": "markdown",
   "id": "a00ddda3",
   "metadata": {},
   "source": [
    "1. Постройте график зависимости весов всех признаков от lambda в самописной L2-регуляризации (на данных про ЕГЭ). Сделайте вывод"
   ]
  },
  {
   "cell_type": "code",
   "execution_count": 26,
   "id": "d43bf7b3",
   "metadata": {},
   "outputs": [],
   "source": [
    "X = np.array([[   1,    1,  500,    1],\n",
    "              [   1,    1,  700,    1],\n",
    "              [   1,    2,  750,    2],\n",
    "              [   1,    5,  600,    1],\n",
    "              [   1,    3, 1450,    2],\n",
    "              [   1,    0,  800,    1],\n",
    "              [   1,    5, 1500,    3],\n",
    "              [   1,   10, 2000,    3],\n",
    "              [   1,    1,  450,    1],\n",
    "              [   1,    2, 1000,    2]])"
   ]
  },
  {
   "cell_type": "code",
   "execution_count": 27,
   "id": "abd6ea60",
   "metadata": {},
   "outputs": [],
   "source": [
    "n = 50\n",
    "\n",
    "train_amount = 5\n",
    "train_X = X[:train_amount]\n",
    "train_y = y[:train_amount]\n",
    "test_X = X[train_amount:]\n",
    "test_y = y[train_amount:]"
   ]
  },
  {
   "cell_type": "code",
   "execution_count": 28,
   "id": "bdeaa066",
   "metadata": {},
   "outputs": [],
   "source": [
    "coeffs = np.zeros((n, train_X.shape[1]))\n",
    "alpha_list = np.logspace(-3, 2, n)"
   ]
  },
  {
   "cell_type": "code",
   "execution_count": 29,
   "id": "768f7235",
   "metadata": {},
   "outputs": [],
   "source": [
    "for i, val in enumerate(alpha_list):\n",
    "    ridge = Ridge(alpha=val, fit_intercept=False)\n",
    "    ridge.fit(train_X, train_y)\n",
    "    \n",
    "    coeffs[i, :] = ridge.coef_.flatten()"
   ]
  },
  {
   "cell_type": "code",
   "execution_count": 32,
   "id": "9a415b78",
   "metadata": {},
   "outputs": [
    {
     "data": {
      "image/png": "[encoded data removed]",
      "text/plain": [
       "<Figure size 432x288 with 1 Axes>"
      ]
     },
     "metadata": {
      "needs_background": "light"
     },
     "output_type": "display_data"
    }
   ],
   "source": [
    "for i in range(train_X.shape[1]):\n",
    "    plt.plot(alpha_list, coeffs[:, i])\n",
    "    plt.title('Убывание абсолютных значений весов признаков\\n при увеличении коэффициента регуляризации alpha (Ridge)')\n",
    "    plt.xticks(np.arange(0, 101, 5))\n",
    "    plt.xlabel('alpha')\n",
    "    plt.ylabel('Вес признака');"
   ]
  },
  {
   "cell_type": "markdown",
   "id": "12d72400",
   "metadata": {},
   "source": [
    "Вывод: При увеличении коэффицента регуляризации веса признаков стремятся к нулю. При уменьшении коэффициента регуляризации веса признаков стремятся к бесконечности."
   ]
  },
  {
   "cell_type": "markdown",
   "id": "c17812ac",
   "metadata": {},
   "source": [
    "2. Напишите функцию наподобие gradient_descent_reg_l2, но для применения L1-регуляризации."
   ]
  },
  {
   "cell_type": "code",
   "execution_count": 37,
   "id": "ac2fe431",
   "metadata": {},
   "outputs": [],
   "source": [
    "def gradient_descent_reg_l1(X, y, iterations, eta=1e-4,reg=1):\n",
    "    W = np.random.random(X.shape[1])\n",
    "    n = X.shape[0]\n",
    "    \n",
    "    for i in range(0, iterations):\n",
    "        y_pred = np.dot(X, W)\n",
    "        err = calc_mse(y, y_pred)\n",
    "        dQ = 2/n * X.T @ (y_pred - y)    \n",
    "        dReg=reg * (W / abs(W))\n",
    "        W -= eta * (dQ + dReg)\n",
    "        if i % (iterations / 10) == 0:\n",
    "            print(f'Iter: {i}, weights: {W}, error {err}')\n",
    "    \n",
    "    print(f'Final MSE: {calc_mse(y, np.dot(X, W))}')\n",
    "    return W"
   ]
  },
  {
   "cell_type": "code",
   "execution_count": 38,
   "id": "68eafe09",
   "metadata": {},
   "outputs": [
    {
     "data": {
      "text/plain": [
       "array([ 1.1291768 , -1.12403288,  2.21385428, -0.06715209])"
      ]
     },
     "execution_count": 38,
     "metadata": {},
     "output_type": "execute_result"
    }
   ],
   "source": [
    "W"
   ]
  },
  {
   "cell_type": "code",
   "execution_count": 39,
   "id": "8d33b7a2",
   "metadata": {},
   "outputs": [
    {
     "name": "stdout",
     "output_type": "stream",
     "text": [
      "Iter: 0, weights: [1.03080445 0.90215376 0.34142395 0.6125201 ], error 3213.530786198737\n",
      "Iter: 500, weights: [36.0828219   4.38489474  3.17835016  3.96558712], error 446.60020624102117\n",
      "Iter: 1000, weights: [48.96483282  4.91842074  3.00706912  4.33753786], error 83.9192093226693\n",
      "Iter: 1500, weights: [53.69911682  5.17401165  2.66173784  4.49913827], error 34.35933983911927\n",
      "Iter: 2000, weights: [55.43901947  5.36299533  2.34377455  4.64809969], error 27.292718282956155\n",
      "Iter: 2500, weights: [56.07845328  5.51186608  2.06208858  4.79463394], error 26.09324317451859\n",
      "Iter: 3000, weights: [56.3134524   5.63078816  1.81250458  4.93660963], error 25.755164303866387\n",
      "Iter: 3500, weights: [56.39981722  5.72669548  1.59073889  5.07204311], error 25.575679653739353\n",
      "Iter: 4000, weights: [56.43155726  5.80476899  1.39317305  5.1997166 ], error 25.44645988715717\n",
      "Iter: 4500, weights: [56.44322209  5.86892719  1.21677181  5.31900223], error 25.34523114672388\n",
      "Final MSE: 25.264077603476075\n"
     ]
    },
    {
     "data": {
      "text/plain": [
       "array([56.44750405,  5.92204962,  1.05926892,  5.42947429])"
      ]
     },
     "execution_count": 39,
     "metadata": {},
     "output_type": "execute_result"
    }
   ],
   "source": [
    "gradient_descent_reg_l1(X_st, y, iterations=5000, eta=1e-3,reg=0.1)"
   ]
  },
  {
   "cell_type": "markdown",
   "id": "78ece478",
   "metadata": {},
   "source": [
    "3. *Можно ли к одному и тому же признаку применить сразу и нормализацию, и стандартизацию?"
   ]
  },
  {
   "cell_type": "markdown",
   "id": "51022053",
   "metadata": {},
   "source": [
    "Ответ: Нет."
   ]
  },
  {
   "cell_type": "code",
   "execution_count": null,
   "id": "1d32c2be",
   "metadata": {},
   "outputs": [],
   "source": []
  }
 ],
 "metadata": {
  "kernelspec": {
   "display_name": "Python 3",
   "language": "python",
   "name": "python3"
  },
  "language_info": {
   "codemirror_mode": {
    "name": "ipython",
    "version": 3
   },
   "file_extension": ".py",
   "mimetype": "text/x-python",
   "name": "python",
   "nbconvert_exporter": "python",
   "pygments_lexer": "ipython3",
   "version": "3.8.8"
  }
 },
 "nbformat": 4,
 "nbformat_minor": 5
}
